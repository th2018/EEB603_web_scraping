{
 "cells": [
  {
   "cell_type": "markdown",
   "metadata": {},
   "source": [
    "load packages"
   ]
  },
  {
   "cell_type": "code",
   "execution_count": 1,
   "metadata": {},
   "outputs": [
    {
     "data": {
      "text/plain": [
       "'/Users/owner/Downloads/rewosscraping'"
      ]
     },
     "execution_count": 1,
     "metadata": {},
     "output_type": "execute_result"
    }
   ],
   "source": [
    "import re\n",
    "import time\n",
    "#!pip install selenium\n",
    "from selenium import webdriver\n",
    "from selenium.webdriver.support.ui import Select\n",
    "from selenium.webdriver.common.keys import Keys\n",
    "from selenium.webdriver.support.ui import WebDriverWait\n",
    "from selenium.webdriver.support import expected_conditions as EC\n",
    "from selenium.webdriver.common.by import By\n",
    "import csv\n",
    "from bs4 import BeautifulSoup\n",
    "import os\n",
    "os.getcwd()"
   ]
  },
  {
   "cell_type": "code",
   "execution_count": null,
   "metadata": {},
   "outputs": [
    {
     "name": "stdout",
     "output_type": "stream",
     "text": [
      "Bald eagle,1,191\n",
      "Barred owl,318\n",
      "Barrow's goldeneye,59\n",
      "Black kite,302\n",
      "Black scoter,no papers\n",
      "Black swan,888\n",
      "Black-bellied whistling-duck,no papers\n",
      "Blue-winged teal,220\n",
      "Boreal owl,no papers\n",
      "Brant,no papers\n",
      "Broad-winged hawk,no papers\n"
     ]
    }
   ],
   "source": [
    "#download chromedriver.exe (https://chromedriver.chromium.org/downloads)\n",
    "#browser = webdriver.Chrome('C:\\\\Users\\\\huangt\\\\Downloads\\\\chromedriver_win32\\\\chromedriver.exe')\n",
    "#for MAC\n",
    "browser = webdriver.Chrome(r'/Users/owner/Downloads/chromedriver')\n",
    "#term = csv.reader(open('/Users/owner/Downloads/rewosscraping/ML_Aqu_Ter.csv', errors='ignore')) \n",
    "term = csv.reader(open('/Users/owner/Downloads/rewosscraping/birds.csv', errors='ignore')) \n",
    "writer = (open('/Users/owner/Downloads/rewosscraping/birds_result.txt', 'a+'))  \n",
    "b=0\n",
    "next(term)\n",
    "lines = [l for l in term]\n",
    "for a in lines:\n",
    "\n",
    "    b = b + 1\n",
    "    browser.get('https://apps.webofknowledge.com/WOS_GeneralSearch_input.do?product=WOS&search_mode=GeneralSearch&SID=3DqsOecQxzHXLGTSm6y&preferencesSaved=') #Add the Web of Science Link here\n",
    "\n",
    "    \n",
    "    browser.find_element_by_xpath(\"//*[@id='clearIcon1']\").click()\n",
    "    browser.find_element_by_xpath(\"//*[@id='value(input1)']\").send_keys(a[0])\n",
    "    \n",
    "    browser.find_element_by_xpath(\"//*[@id='searchCell1']/span[1]\").click()\n",
    "\n",
    "    try:\n",
    "        result = browser.find_element_by_xpath(\"//*[@id='hitCount.top']\").get_attribute(\"innerHTML\")\n",
    "        print (a[0]+','+result)\n",
    "        to_write = a[0]+','+ result +'\\n'\n",
    "        writer.write(to_write)\n",
    "    except:\n",
    "        print (a[0]+','+'no papers')\n",
    "        to_write = a[0]+','+ 'NA' +'\\n'\n",
    "        writer.write(to_write)\n",
    "writer.close()"
   ]
  },
  {
   "cell_type": "code",
   "execution_count": 6,
   "metadata": {},
   "outputs": [
    {
     "data": {
      "text/plain": [
       "<_csv.reader at 0x10e942eb8>"
      ]
     },
     "execution_count": 6,
     "metadata": {},
     "output_type": "execute_result"
    }
   ],
   "source": [
    "term"
   ]
  },
  {
   "cell_type": "code",
   "execution_count": null,
   "metadata": {},
   "outputs": [],
   "source": []
  }
 ],
 "metadata": {
  "kernelspec": {
   "display_name": "Python 3",
   "language": "python",
   "name": "python3"
  },
  "language_info": {
   "codemirror_mode": {
    "name": "ipython",
    "version": 3
   },
   "file_extension": ".py",
   "mimetype": "text/x-python",
   "name": "python",
   "nbconvert_exporter": "python",
   "pygments_lexer": "ipython3",
   "version": "3.7.1"
  }
 },
 "nbformat": 4,
 "nbformat_minor": 2
}
