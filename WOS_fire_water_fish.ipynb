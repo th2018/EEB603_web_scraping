{
 "cells": [
  {
   "cell_type": "markdown",
   "metadata": {},
   "source": [
    "install packages"
   ]
  },
  {
   "cell_type": "code",
   "execution_count": 2,
   "metadata": {},
   "outputs": [
    {
     "name": "stdout",
     "output_type": "stream",
     "text": [
      "Collecting selenium\n",
      "  Downloading selenium-3.141.0-py2.py3-none-any.whl (904 kB)\n",
      "Requirement already satisfied: urllib3 in c:\\users\\taohuang\\anaconda3\\lib\\site-packages (from selenium) (1.25.9)\n",
      "Installing collected packages: selenium\n",
      "Successfully installed selenium-3.141.0\n"
     ]
    }
   ],
   "source": [
    "!pip install selenium"
   ]
  },
  {
   "cell_type": "markdown",
   "metadata": {},
   "source": [
    "load packages"
   ]
  },
  {
   "cell_type": "code",
   "execution_count": 3,
   "metadata": {},
   "outputs": [
    {
     "data": {
      "text/plain": [
       "'C:\\\\Users\\\\taohuang\\\\Desktop\\\\EEB603_web_scraping-main'"
      ]
     },
     "execution_count": 3,
     "metadata": {},
     "output_type": "execute_result"
    }
   ],
   "source": [
    "import re\n",
    "import time\n",
    "#!pip install selenium\n",
    "from selenium import webdriver\n",
    "from selenium.webdriver.support.ui import Select\n",
    "from selenium.webdriver.common.keys import Keys\n",
    "from selenium.webdriver.support.ui import WebDriverWait\n",
    "from selenium.webdriver.support import expected_conditions as EC\n",
    "from selenium.webdriver.common.by import By\n",
    "import csv\n",
    "from bs4 import BeautifulSoup\n",
    "import os\n",
    "os.getcwd()"
   ]
  },
  {
   "cell_type": "code",
   "execution_count": 26,
   "metadata": {},
   "outputs": [
    {
     "name": "stdout",
     "output_type": "stream",
     "text": [
      "TROUT AND (Watershed OR River) AND (runoff OR event OR flood OR discharge OR drought OR snowmelt) AND Gene,53,Discharge\n",
      "TROUT AND (Watershed OR River) AND (Sediment OR erosion OR debris OR turbidity OR particulate ) AND Gene,39,Sediment\n",
      "TROUT AND (Watershed OR River) AND (carbon OR nitrogen OR organic OR phosphorus OR oxygen OR silica OR niutrient) AND Gene,32,Chemical\n",
      "TROUT AND (Watershed OR River) AND (temperature) AND Gene,54,Temperature\n",
      "TROUT AND (Watershed OR River) AND (algae OR macroinvertebrate OR food web) AND Gene,2,Food web\n",
      "TROUT AND (Watershed OR River) AND (metabolism OR primary productivity) AND Gene,33,Metabolism\n",
      "TROUT AND (Watershed OR River) AND (metal OR arsenic) AND Gene,34,Toxic\n"
     ]
    }
   ],
   "source": [
    "#download chromedriver.exe (https://chromedriver.chromium.org/downloads)\n",
    "#browser = webdriver.Chrome('C:\\\\Users\\\\huangt\\\\Downloads\\\\chromedriver_win32\\\\chromedriver.exe')\n",
    "#for MAC\n",
    "browser = webdriver.Chrome('C:\\\\Users\\\\taohuang\\\\Desktop\\\\EEB603_web_scraping-main\\chromedriver.exe')\n",
    "#term = csv.reader(open('/Users/owner/Downloads/rewosscraping/ML_Aqu_Ter.csv', errors='ignore')) \n",
    "term = csv.reader(open('C:\\\\Users\\\\taohuang\\\\Desktop\\\\EEB603_web_scraping-main\\water5.csv', errors='ignore')) \n",
    "writer = (open('C:\\\\Users\\\\taohuang\\\\Desktop\\\\EEB603_web_scraping-main\\water_result.txt', 'a+'))  \n",
    "b=0\n",
    "next(term)\n",
    "lines = [l for l in term]\n",
    "for a in lines:\n",
    "\n",
    "    b = b + 1\n",
    "    browser.get('https://apps.webofknowledge.com/WOS_GeneralSearch_input.do?product=WOS&search_mode=GeneralSearch&SID=3DqsOecQxzHXLGTSm6y&preferencesSaved=') #Add the Web of Science Link here\n",
    "\n",
    "    \n",
    "    browser.find_element_by_xpath(\"//*[@id='clearIcon1']\").click()\n",
    "    browser.find_element_by_xpath(\"//*[@id='value(input1)']\").send_keys(a[0])\n",
    "    \n",
    "    browser.find_element_by_xpath(\"//*[@id='searchCell1']/span[1]\").click()\n",
    "\n",
    "    try:\n",
    "        result = browser.find_element_by_xpath(\"//*[@id='hitCount.top']\").get_attribute(\"innerHTML\")\n",
    "        print (a[0]+','+result+','+a[2])\n",
    "        to_write = a[0]+','+ result +'\\n'\n",
    "        writer.write(to_write)\n",
    "    except:\n",
    "        print (a[0]+','+'0'+','+a[2])\n",
    "        to_write = a[0]+','+ 'NA' +'\\n'\n",
    "        writer.write(to_write)\n",
    "writer.close()"
   ]
  },
  {
   "cell_type": "code",
   "execution_count": null,
   "metadata": {},
   "outputs": [],
   "source": [
    "ax = df.plot.bar(x='lab', y='val', rot=0)"
   ]
  },
  {
   "cell_type": "code",
   "execution_count": 6,
   "metadata": {},
   "outputs": [
    {
     "data": {
      "text/plain": [
       "<_csv.reader at 0x10e942eb8>"
      ]
     },
     "execution_count": 6,
     "metadata": {},
     "output_type": "execute_result"
    }
   ],
   "source": [
    "import matplotlib.pyplot as plt\n",
    "fig = plt.figure()\n"
   ]
  },
  {
   "cell_type": "code",
   "execution_count": 27,
   "metadata": {},
   "outputs": [
    {
     "data": {
      "image/png": "[encoded data removed]",
      "text/plain": [
       "<Figure size 432x288 with 1 Axes>"
      ]
     },
     "metadata": {
      "needs_background": "light"
     },
     "output_type": "display_data"
    },
    {
     "data": {
      "image/png": "[encoded data removed]",
      "text/plain": [
       "<Figure size 432x288 with 1 Axes>"
      ]
     },
     "metadata": {
      "needs_background": "light"
     },
     "output_type": "display_data"
    }
   ],
   "source": [
    "import pandas as pd\n",
    "water_count=pd.read_csv(\"water_count2.csv\")\n",
    "\n",
    "#ax = water_count.plot.bar(x='Search_terms', y='Paper_counts', rot=0)\n",
    "ax2 = water_count.plot.bar(x='Category', y='Paper_counts', rot=90\n",
    "                          ,title='Wildfire+Watershed+Search Term'\n",
    "                          )\n",
    "\n",
    "water_count=pd.read_csv(\"water_count3.csv\")\n",
    "\n",
    "\n",
    "\n",
    "ax3 = water_count.plot.bar(x='Category', y='Paper_counts', rot=90\n",
    "                          ,title='Trout+Watershed+Gene+Search Term'\n",
    "                          )\n"
   ]
  },
  {
   "cell_type": "code",
   "execution_count": null,
   "metadata": {},
   "outputs": [],
   "source": []
  }
 ],
 "metadata": {
  "kernelspec": {
   "display_name": "Python 3",
   "language": "python",
   "name": "python3"
  },
  "language_info": {
   "codemirror_mode": {
    "name": "ipython",
    "version": 3
   },
   "file_extension": ".py",
   "mimetype": "text/x-python",
   "name": "python",
   "nbconvert_exporter": "python",
   "pygments_lexer": "ipython3",
   "version": "3.8.3"
  }
 },
 "nbformat": 4,
 "nbformat_minor": 2
}
